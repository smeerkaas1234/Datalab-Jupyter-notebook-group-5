{
 "cells": [
  {
   "cell_type": "markdown",
   "id": "fb7db3e0",
   "metadata": {},
   "source": [
    "# Datalab 2025-2026"
   ]
  },
  {
   "cell_type": "markdown",
   "id": "40561af5",
   "metadata": {},
   "source": [
    "<div style=\"line-height:1;\">\n",
    "\n",
    "## Analyse over elektricitiets gebruik in de Nederlandse markt.\n",
    "\n",
    "**Groepsnummer: 5**\n",
    "\n",
    "**Auteurs: Lucas Hoetink, Thomas Galais, Mehmet Kilinc, Joris Zondervan**"
   ]
  },
  {
   "cell_type": "markdown",
   "id": "d96a806f",
   "metadata": {},
   "source": [
    "<div style=\"line-height:1.6;\">\n",
    "\n",
    "## **Kernpuntenrapport**\n",
    "\n",
    "Dit notebook presenteert doormiddel van data van het **CBS** een analytisch overzicht van de **Nederlandse energiemarkt**. Na het opschonen en voorbewerken van de rauwe datasets zijn er verschillende analyses op uitgevoerd om inzicht te krijgen in hoe het elekriciteits gebruik verschilt per gemeente en welke factoren dit beïnvloeden. \n",
    "\n",
    "Wij hebben datasets van het CBS doormiddel van <code style=\"color:#4EC9B0;\">pandas</code>, <code style=\"color:#9CDCFE;\">numpy</code> onderzocht. Ook hebben wij met <code style=\"color:#CE9178;\">seaborn</code> en <code style=\"color:#CE9178;\">matplotlib</code> meerdere visualisaties gemaakt om de data gemakkelijk in te zien.\n",
    "\n",
    "**Belangrijkste bevindingen**:\n",
    "\n",
    "- \n",
    "- \n",
    "\n",
    "Deze patronen benadrukken dit en dit en dit\n"
   ]
  },
  {
   "cell_type": "markdown",
   "id": "1eec98b8",
   "metadata": {},
   "source": [
    "---"
   ]
  },
  {
   "cell_type": "markdown",
   "id": "b746ec40",
   "metadata": {},
   "source": [
    "## **Importeer de benodigde libraries**\n",
    "\n",
    "Hier importeren wij <code style=\"color:#4EC9B0;\">pandas</code> en <code style=\"color:#9CDCFE;\">numpy</code>. Ook installeren wij eerst de api voor  <code style=\"color:#4EC9B0;\">cbsodata</code> (CBS open data), en importeren we de library in het notebook."
   ]
  },
  {
   "cell_type": "code",
   "execution_count": 17,
   "id": "c6a3288a",
   "metadata": {},
   "outputs": [
    {
     "name": "stdout",
     "output_type": "stream",
     "text": [
      "Requirement already satisfied: cbsodata in c:\\users\\thomas\\anaconda3\\lib\\site-packages (1.3.5)\n",
      "Requirement already satisfied: requests in c:\\users\\thomas\\anaconda3\\lib\\site-packages (from cbsodata) (2.32.3)\n",
      "Requirement already satisfied: charset-normalizer<4,>=2 in c:\\users\\thomas\\anaconda3\\lib\\site-packages (from requests->cbsodata) (3.3.2)\n",
      "Requirement already satisfied: idna<4,>=2.5 in c:\\users\\thomas\\anaconda3\\lib\\site-packages (from requests->cbsodata) (3.7)\n",
      "Requirement already satisfied: urllib3<3,>=1.21.1 in c:\\users\\thomas\\anaconda3\\lib\\site-packages (from requests->cbsodata) (2.3.0)\n",
      "Requirement already satisfied: certifi>=2017.4.17 in c:\\users\\thomas\\anaconda3\\lib\\site-packages (from requests->cbsodata) (2025.8.3)\n",
      "Note: you may need to restart the kernel to use updated packages.\n"
     ]
    }
   ],
   "source": [
    "import pandas as pd\n",
    "import numpy as np\n",
    "%pip install cbsodata\n",
    "import cbsodata"
   ]
  },
  {
   "cell_type": "markdown",
   "id": "63f3c1ce",
   "metadata": {},
   "source": [
    "## **Stel de plotting stijl in**"
   ]
  },
  {
   "cell_type": "code",
   "execution_count": 18,
   "id": "451f3d3a",
   "metadata": {},
   "outputs": [],
   "source": [
    "# plt.style.use('seaborn-v0_8')\n",
    "# sns.set_palette('husl')"
   ]
  },
  {
   "cell_type": "markdown",
   "id": "04cb54b2",
   "metadata": {},
   "source": [
    "---"
   ]
  },
  {
   "cell_type": "markdown",
   "id": "c691644c",
   "metadata": {},
   "source": [
    "## **Sprint 3**"
   ]
  },
  {
   "cell_type": "markdown",
   "id": "204ec826",
   "metadata": {},
   "source": [
    "<div style=\"line-height:1.6;\">\n",
    "\n",
    "### **Kernpuntenrapport**\n",
    "\n",
    "Dit hoofdstuk presenteert een analytisch overzicht van het elektriciteitsverbruik per gemeente. Ook gaat dit hoofdstuk in op de verschillende factoren die het elektriciteitsverbruik per huishouden beïnvloeden.Als laatste gaan wij aan de hand van kenmerken van een buurt voorspellingen doen over het energieverbruik.\n",
    "\n",
    "**Belangrijkste bevindingen:**\n",
    "\n",
    "- \n",
    "- \n",
    "\n",
    "Dit verteld ons dit dit en dit"
   ]
  },
  {
   "cell_type": "markdown",
   "id": "f9bfdd81",
   "metadata": {},
   "source": [
    "---"
   ]
  },
  {
   "cell_type": "markdown",
   "id": "7d992b99",
   "metadata": {},
   "source": [
    "## **Importeer de dataset**"
   ]
  },
  {
   "cell_type": "markdown",
   "id": "a10731aa",
   "metadata": {},
   "source": [
    "<!-- Zet de regel afstand voor betere leesbaarheid -->\n",
    "<div style=\"line-height:1.6;\">\n",
    "\n",
    "**Hoe we dit doen:**\n",
    "\n",
    "We beginnen met <code style=\"color:#4EC9B0;\">pandas</code> en `.getdata()` van <code style=\"color:#4EC9B0;\">cbsodata</code> om het dataset 84799NED op te halen en meteen om te zetten in een <code style=\"color:#4EC9B0;\">pandas DataFrame</code>. \n",
    "We gaan meteen door met data verkenning om de dataset beter te begrijpen. De eerste verkenning met `.head()` en `.shape` geeft ons een snel overzicht van de datastructuur.\n",
    "\n",
    "De dataset heeft `17341` rijen en `119` kolommen.\n",
    "`.head()` laat ons de bovenste 5 rijen zien. hieruit kunnen we opmaken waar de dataset over gaat. Het lijkt een dataset te zijn met informatie over verschillende wijken in Nederland. Interessante kolommen zijn bijvoorbeeld leeftijdsgoepen, informatie over huishoudens, woning types, en energiegebruik."
   ]
  },
  {
   "cell_type": "code",
   "execution_count": 19,
   "id": "7171f30c",
   "metadata": {},
   "outputs": [
    {
     "name": "stdout",
     "output_type": "stream",
     "text": [
      "De dataset heeft de volgende vorm: (17341, 119)\n",
      "\n",
      "De bovenste 5 rijen zijn:\n",
      "    ID          WijkenEnBuurten                            Gemeentenaam_1  \\\n",
      "0   0                Nederland  Nederland                                  \n",
      "1   1              Aa en Hunze  Aa en Hunze                                \n",
      "2   2            Wijk 00 Annen  Aa en Hunze                                \n",
      "3   3                    Annen  Aa en Hunze                                \n",
      "4   4  Verspreide huizen Annen  Aa en Hunze                                \n",
      "\n",
      "  SoortRegio_2  Codering_3 IndelingswijzigingWijkenEnBuurten_4  \\\n",
      "0   Land        NL00                                         .   \n",
      "1   Gemeente    GM1680                                       .   \n",
      "2   Wijk        WK168000                                     1   \n",
      "3   Buurt       BU16800000                                   1   \n",
      "4   Buurt       BU16800009                                   1   \n",
      "\n",
      "   AantalInwoners_5  Mannen_6  Vrouwen_7  k_0Tot15Jaar_8  k_15Tot25Jaar_9  \\\n",
      "0          17407585   8648031    8759554         2726099          2143743   \n",
      "1             25445     12708      12737            3460             2624   \n",
      "2              3610      1760       1850             560              345   \n",
      "3              3455      1680       1775             545              335   \n",
      "4               155        75         75              15               15   \n",
      "\n",
      "   k_25Tot45Jaar_10  k_45Tot65Jaar_11  k_65JaarOfOuder_12  Ongehuwd_13  \\\n",
      "0           4308904           4836284             3392555      8474556   \n",
      "1              4375              8249                6737        10174   \n",
      "2               630              1145                 925         1475   \n",
      "3               610              1090                 875         1425   \n",
      "4                20                60                  45           50   \n",
      "\n",
      "   Gehuwd_14  Gescheiden_15  Verweduwd_16  WestersTotaal_17  \\\n",
      "0    6713002        1361007        859020           1828645   \n",
      "1      11778           1867          1626              1071   \n",
      "2       1650            250           240               125   \n",
      "3       1555            245           230               125   \n",
      "4         85              5             5                 0   \n",
      "\n",
      "   NietWestersTotaal_18  Marokko_19  NederlandseAntillenEnAruba_20  \\\n",
      "0               2392060      408864                         166265   \n",
      "1                   640           9                             41   \n",
      "2                    70           0                              5   \n",
      "3                    70           0                              5   \n",
      "4                     0           0                              0   \n",
      "\n",
      "   Suriname_21  Turkije_22  OverigNietWesters_23  GeboorteTotaal_24  \\\n",
      "0       356402      416864               1043665             168681   \n",
      "1           61          16                   513                167   \n",
      "2            0           0                    65                 25   \n",
      "3            5           0                    60                 25   \n",
      "4            0           0                     0                  0   \n",
      "\n",
      "   GeboorteRelatief_25  SterfteTotaal_26  SterfteRelatief_27  \\\n",
      "0                   10            168678                  10   \n",
      "1                    7               274                  11   \n",
      "2                    7                35                  10   \n",
      "3                    7                30                  10   \n",
      "4                    0                 0                   7   \n",
      "\n",
      "   HuishoudensTotaal_28  Eenpersoonshuishoudens_29  \\\n",
      "0               7997800                    3079778   \n",
      "1                 11160                       3236   \n",
      "2                  1565                        430   \n",
      "3                  1500                        415   \n",
      "4                    70                         15   \n",
      "\n",
      "   HuishoudensZonderKinderen_30  HuishoudensMetKinderen_31  \\\n",
      "0                       2302921                    2615101   \n",
      "1                          4361                       3563   \n",
      "2                           590                        550   \n",
      "3                           555                        525   \n",
      "4                            35                         20   \n",
      "\n",
      "   GemiddeldeHuishoudensgrootte_32  Bevolkingsdichtheid_33  Woningvoorraad_34  \\\n",
      "0                              2.1                   517.0            7891786   \n",
      "1                              2.2                    92.0              11179   \n",
      "2                              2.3                   246.0               1627   \n",
      "3                              2.3                  1370.0               1564   \n",
      "4                              2.3                    13.0                 63   \n",
      "\n",
      "   GemiddeldeWOZWaardeVanWoningen_35  PercentageEengezinswoning_36  \\\n",
      "0                              271.0                          64.0   \n",
      "1                              257.0                          92.0   \n",
      "2                              254.0                          91.0   \n",
      "3                              245.0                          90.0   \n",
      "4                              470.0                         100.0   \n",
      "\n",
      "   PercentageMeergezinswoning_37  PercentageBewoond_38  \\\n",
      "0                           36.0                  96.0   \n",
      "1                            8.0                  96.0   \n",
      "2                            9.0                  96.0   \n",
      "3                           10.0                  96.0   \n",
      "4                            0.0                  98.0   \n",
      "\n",
      "   PercentageOnbewoond_39  Koopwoningen_40  HuurwoningenTotaal_41  \\\n",
      "0                     4.0             57.0                   43.0   \n",
      "1                     4.0             75.0                   25.0   \n",
      "2                     4.0             74.0                   26.0   \n",
      "3                     4.0             73.0                   27.0   \n",
      "4                     2.0             97.0                    3.0   \n",
      "\n",
      "   InBezitWoningcorporatie_42  InBezitOverigeVerhuurders_43  \\\n",
      "0                        29.0                          13.0   \n",
      "1                        20.0                           6.0   \n",
      "2                        20.0                           6.0   \n",
      "3                        20.0                           6.0   \n",
      "4                         0.0                           3.0   \n",
      "\n",
      "   EigendomOnbekend_44  BouwjaarVoor2000_45  BouwjaarVanaf2000_46  \\\n",
      "0                  0.0                 83.0                  17.0   \n",
      "1                  0.0                 89.0                  11.0   \n",
      "2                  0.0                 88.0                  12.0   \n",
      "3                  0.0                 88.0                  12.0   \n",
      "4                  0.0                 68.0                  32.0   \n",
      "\n",
      "   GemiddeldElektriciteitsverbruikTotaal_47  Appartement_48  Tussenwoning_49  \\\n",
      "0                                    2760.0          1990.0           2850.0   \n",
      "1                                    3090.0          1870.0           2250.0   \n",
      "2                                    3000.0          1630.0           2320.0   \n",
      "3                                    2950.0          1630.0           2320.0   \n",
      "4                                    4390.0             NaN              NaN   \n",
      "\n",
      "   Hoekwoning_50  TweeOnderEenKapWoning_51  VrijstaandeWoning_52  \\\n",
      "0         2970.0                    3290.0                4040.0   \n",
      "1         2520.0                    2870.0                3660.0   \n",
      "2         2650.0                    3060.0                3630.0   \n",
      "3         2650.0                    3060.0                3540.0   \n",
      "4            NaN                       NaN                4420.0   \n",
      "\n",
      "   Huurwoning_53  EigenWoning_54  GemiddeldAardgasverbruikTotaal_55  \\\n",
      "0         2110.0          3230.0                             1120.0   \n",
      "1         2230.0          3380.0                             1660.0   \n",
      "2         1950.0          3350.0                             1540.0   \n",
      "3         1950.0          3290.0                             1520.0   \n",
      "4            NaN          4410.0                             2090.0   \n",
      "\n",
      "   Appartement_56  Tussenwoning_57  Hoekwoning_58  TweeOnderEenKapWoning_59  \\\n",
      "0           750.0           1050.0         1250.0                    1450.0   \n",
      "1           900.0           1190.0         1360.0                    1450.0   \n",
      "2           800.0           1250.0         1390.0                    1470.0   \n",
      "3           800.0           1250.0         1390.0                    1470.0   \n",
      "4             NaN              NaN            NaN                       NaN   \n",
      "\n",
      "   VrijstaandeWoning_60  Huurwoning_61  EigenWoning_62  \\\n",
      "0                1910.0          870.0          1300.0   \n",
      "1                2010.0         1240.0          1790.0   \n",
      "2                1900.0         1150.0          1670.0   \n",
      "3                1880.0         1150.0          1650.0   \n",
      "4                2090.0            NaN          2090.0   \n",
      "\n",
      "   PercentageWoningenMetStadsverwarming_63  OpleidingsniveauLaag_64  \\\n",
      "0                                      6.3                3663210.0   \n",
      "1                                      NaN                   4570.0   \n",
      "2                                      NaN                    560.0   \n",
      "3                                      NaN                    530.0   \n",
      "4                                      NaN                     20.0   \n",
      "\n",
      "   OpleidingsniveauMiddelbaar_65  OpleidingsniveauHoog_66  \\\n",
      "0                      5505600.0                4100340.0   \n",
      "1                         8800.0                   5790.0   \n",
      "2                         1270.0                    830.0   \n",
      "3                         1210.0                    790.0   \n",
      "4                           60.0                     40.0   \n",
      "\n",
      "   Nettoarbeidsparticipatie_67  PercentageWerknemers_68  \\\n",
      "0                         69.0                     84.0   \n",
      "1                         67.0                     80.0   \n",
      "2                         69.0                     83.0   \n",
      "3                         69.0                     84.0   \n",
      "4                          NaN                      NaN   \n",
      "\n",
      "   PercentageZelfstandigen_69  AantalInkomensontvangers_70  \\\n",
      "0                        16.0                     13805800   \n",
      "1                        20.0                        20700   \n",
      "2                        17.0                         2900   \n",
      "3                        16.0                         2800   \n",
      "4                         NaN                          100   \n",
      "\n",
      "   GemiddeldInkomenPerInkomensontvanger_71  GemiddeldInkomenPerInwoner_72  \\\n",
      "0                                     34.3                           27.9   \n",
      "1                                     33.9                           28.2   \n",
      "2                                     35.9                           29.5   \n",
      "3                                     35.3                           28.9   \n",
      "4                                     48.5                           43.1   \n",
      "\n",
      "   k_40PersonenMetLaagsteInkomen_73  k_20PersonenMetHoogsteInkomen_74  \\\n",
      "0                              40.0                              20.0   \n",
      "1                              39.9                              19.7   \n",
      "2                              36.5                              21.8   \n",
      "3                              36.6                              21.2   \n",
      "4                              33.1                              34.6   \n",
      "\n",
      "   GemGestandaardiseerdInkomenVanHuish_75  \\\n",
      "0                                    32.1   \n",
      "1                                    33.4   \n",
      "2                                    34.8   \n",
      "3                                    34.3   \n",
      "4                                     NaN   \n",
      "\n",
      "   k_40HuishoudensMetLaagsteInkomen_76  k_20HuishoudensMetHoogsteInkomen_77  \\\n",
      "0                                 40.0                                 20.0   \n",
      "1                                 32.0                                 22.7   \n",
      "2                                 28.6                                 25.9   \n",
      "3                                 29.2                                 24.7   \n",
      "4                                  NaN                                  NaN   \n",
      "\n",
      "   HuishoudensMetEenLaagInkomen_78  HuishOnderOfRondSociaalMinimum_79  \\\n",
      "0                              6.8                                6.8   \n",
      "1                              4.7                                4.7   \n",
      "2                              2.8                                3.9   \n",
      "3                              2.7                                3.8   \n",
      "4                              NaN                                NaN   \n",
      "\n",
      "   HuishoudensTot110VanSociaalMinimum_80  \\\n",
      "0                                   10.2   \n",
      "1                                    7.3   \n",
      "2                                    6.0   \n",
      "3                                    6.0   \n",
      "4                                    NaN   \n",
      "\n",
      "   HuishoudensTot120VanSociaalMinimum_81  \\\n",
      "0                                   13.0   \n",
      "1                                    9.6   \n",
      "2                                    8.7   \n",
      "3                                    8.8   \n",
      "4                                    NaN   \n",
      "\n",
      "   MediaanVermogenVanParticuliereHuish_82  \\\n",
      "0                                    65.3   \n",
      "1                                   140.9   \n",
      "2                                   144.0   \n",
      "3                                   135.6   \n",
      "4                                     NaN   \n",
      "\n",
      "   PersonenPerSoortUitkeringBijstand_83  PersonenPerSoortUitkeringAO_84  \\\n",
      "0                              421110.0                        732950.0   \n",
      "1                                 380.0                          1100.0   \n",
      "2                                  30.0                           110.0   \n",
      "3                                  30.0                           110.0   \n",
      "4                                   0.0                            10.0   \n",
      "\n",
      "   PersonenPerSoortUitkeringWW_85  PersonenPerSoortUitkeringAOW_86  \\\n",
      "0                        238650.0                        3122870.0   \n",
      "1                           310.0                           6200.0   \n",
      "2                            50.0                            860.0   \n",
      "3                            50.0                            820.0   \n",
      "4                             0.0                             40.0   \n",
      "\n",
      "   JongerenMetJeugdzorgInNatura_87  PercentageJongerenMetJeugdzorg_88  \\\n",
      "0                         429210.0                                9.7   \n",
      "1                            575.0                               10.0   \n",
      "2                             70.0                                8.0   \n",
      "3                             70.0                                8.3   \n",
      "4                              NaN                                NaN   \n",
      "\n",
      "   WmoClienten_89  WmoClientenRelatief_90  BedrijfsvestigingenTotaal_91  \\\n",
      "0       1221820.0                    70.0                       2033385   \n",
      "1          1865.0                    73.0                          2910   \n",
      "2           240.0                    66.0                           365   \n",
      "3           240.0                    69.0                           340   \n",
      "4             NaN                     NaN                            30   \n",
      "\n",
      "   ALandbouwBosbouwEnVisserij_92  BFNijverheidEnEnergie_93  \\\n",
      "0                        76905.0                  276035.0   \n",
      "1                          290.0                     345.0   \n",
      "2                           20.0                      45.0   \n",
      "3                           15.0                      45.0   \n",
      "4                           10.0                       0.0   \n",
      "\n",
      "   GIHandelEnHoreca_94  HJVervoerInformatieEnCommunicatie_95  \\\n",
      "0             349180.0                              152370.0   \n",
      "1                480.0                                 135.0   \n",
      "2                 65.0                                  10.0   \n",
      "3                 60.0                                  10.0   \n",
      "4                  0.0                                   0.0   \n",
      "\n",
      "   KLFinancieleDienstenOnroerendGoed_96  MNZakelijkeDienstverlening_97  \\\n",
      "0                              167075.0                       469030.0   \n",
      "1                                 190.0                          600.0   \n",
      "2                                  30.0                           85.0   \n",
      "3                                  30.0                           80.0   \n",
      "4                                   0.0                            5.0   \n",
      "\n",
      "   OQOverheidOnderwijsEnZorg_98  RUCultuurRecreatieOverigeDiensten_99  \\\n",
      "0                      312910.0                              229880.0   \n",
      "1                         535.0                                 325.0   \n",
      "2                          70.0                                  40.0   \n",
      "3                          65.0                                  35.0   \n",
      "4                           5.0                                   5.0   \n",
      "\n",
      "   PersonenautoSTotaal_100  PersonenautoSBrandstofBenzine_101  \\\n",
      "0                  8584390                            6883820   \n",
      "1                    14645                              11085   \n",
      "2                     2035                               1605   \n",
      "3                     1935                               1535   \n",
      "4                      100                                 70   \n",
      "\n",
      "   PersonenautoSOverigeBrandstof_102  PersonenautoSPerHuishouden_103  \\\n",
      "0                            1700575                             1.1   \n",
      "1                               3560                             1.3   \n",
      "2                                430                             1.3   \n",
      "3                                405                             1.3   \n",
      "4                                 30                             1.5   \n",
      "\n",
      "   PersonenautoSNaarOppervlakte_104  Motorfietsen_105  \\\n",
      "0                             255.0            654385   \n",
      "1                              53.0              1745   \n",
      "2                             139.0               205   \n",
      "3                             768.0               195   \n",
      "4                               8.0                10   \n",
      "\n",
      "   AfstandTotHuisartsenpraktijk_106  AfstandTotGroteSupermarkt_107  \\\n",
      "0                               1.0                            0.9   \n",
      "1                               2.4                            2.1   \n",
      "2                               0.9                            0.9   \n",
      "3                               0.8                            0.8   \n",
      "4                               2.6                            2.1   \n",
      "\n",
      "   AfstandTotKinderdagverblijf_108  AfstandTotSchool_109  \\\n",
      "0                              0.6                   0.7   \n",
      "1                              1.2                   1.2   \n",
      "2                              0.5                   0.8   \n",
      "3                              0.5                   0.8   \n",
      "4                              1.7                   2.0   \n",
      "\n",
      "   ScholenBinnen3Km_110  OppervlakteTotaal_111  OppervlakteLand_112  \\\n",
      "0                  10.9                4154338              3367109   \n",
      "1                   1.8                  27887                27609   \n",
      "2                   2.6                   1478                 1466   \n",
      "3                   2.6                    252                  252   \n",
      "4                   1.2                   1226                 1213   \n",
      "\n",
      "   OppervlakteWater_113 MeestVoorkomendePostcode_114  Dekkingspercentage_115  \\\n",
      "0                787228                            .                     NaN   \n",
      "1                   279                            .                     NaN   \n",
      "2                    13                            .                     NaN   \n",
      "3                     0                         9468                     1.0   \n",
      "4                    13                         9468                     1.0   \n",
      "\n",
      "   MateVanStedelijkheid_116  Omgevingsadressendichtheid_117  \n",
      "0                       2.0                          2010.0  \n",
      "1                       5.0                           281.0  \n",
      "2                       5.0                           396.0  \n",
      "3                       5.0                           411.0  \n",
      "4                       5.0                            60.0  \n"
     ]
    }
   ],
   "source": [
    "# Dataset importeren. Omdat de dataset bovenaan wat extra rijen heeft slaan we die over.\n",
    "df = pd.DataFrame(cbsodata.get_data('84799NED'))\n",
    "\n",
    "# Dataset uitlezen\n",
    "print('De dataset heeft de volgende vorm:', df.shape)\n",
    "print('\\nDe bovenste 5 rijen zijn:\\n',df.head())"
   ]
  },
  {
   "cell_type": "markdown",
   "id": "3a1015ff",
   "metadata": {},
   "source": [
    "<!-- Zet de regel afstand voor betere leesbaarheid -->\n",
    "<div style=\"line-height:1.6;\">\n",
    "\n",
    "## **1. De dataset filteren**\n",
    "\n",
    "We beginnen met een gestructureerd overzicht te creëren van de data die voor ons interessant is. Dit doen wij door de dataset te filteren en om te zetten in de DataFrames `buurten`, `inwoners`, en `elektriciteitsgebruik`. Het is nodig om op alleen de buurten te filteren, omdat ons onderzoek alleen de informatie over de buurten vereist. De niet-relevante informatie hindert de snelheid van berekeningen en door deze weg te laten maken wij het onderzoek ook overzichtelijker.\n",
    "De interessante informatie voor ons in deze dataset is:\n",
    "\n",
    "- \n",
    "- \n",
    "- "
   ]
  },
  {
   "cell_type": "code",
   "execution_count": 29,
   "id": "ab75fa4b",
   "metadata": {},
   "outputs": [
    {
     "name": "stdout",
     "output_type": "stream",
     "text": [
      "<class 'pandas.core.frame.DataFrame'>\n",
      "RangeIndex: 17341 entries, 0 to 17340\n",
      "Data columns (total 6 columns):\n",
      " #   Column                  Non-Null Count  Dtype  \n",
      "---  ------                  --------------  -----  \n",
      " 0   WijkenEnBuurten         17341 non-null  object \n",
      " 1   Gemeentenaam_1          17341 non-null  object \n",
      " 2   SoortRegio_2            17341 non-null  object \n",
      " 3   AantalInwoners_5        17341 non-null  int64  \n",
      " 4   PercentageBewoond_38    15731 non-null  float64\n",
      " 5   PercentageOnbewoond_39  15731 non-null  float64\n",
      "dtypes: float64(2), int64(1), object(3)\n",
      "memory usage: 813.0+ KB\n",
      "None\n"
     ]
    }
   ],
   "source": [
    "# Dataframe buurten maken\n",
    "# print(df.columns.tolist())\n",
    "\n",
    "buurten = df[['WijkenEnBuurten', 'Gemeentenaam_1', 'SoortRegio_2', 'AantalInwoners_5','PercentageBewoond_38', 'PercentageOnbewoond_39',]]\n",
    "inwoners = df[['k_20HuishoudensMetHoogsteInkomen_77', 'HuishoudensMetEenLaagInkomen_78','GemiddeldeHuishoudensgrootte_32' ,'HuishoudensMetKinderen_31','HuishoudensZonderKinderen_30', 'Bevolkingsdichtheid_33', 'OpleidingsniveauLaag_64', 'OpleidingsniveauMiddelbaar_65', 'OpleidingsniveauHoog_66', ]]\n",
    "elektriciteitsgebruik = df[['GemiddeldElektriciteitsverbruikTotaal_47', 'BouwjaarVoor2000_45', 'BouwjaarVanaf2000_46', 'GemiddeldAardgasverbruikTotaal_55']]\n",
    "\n",
    "print(buurten.info())\n",
    "# Een nieuwe dataframe met alleen buurten is belangrijk omdat we dan alle \"onnodige\" informatie buiten laten en alle bruikbare inforamtie voor ons onderzoek overhouden."
   ]
  },
  {
   "cell_type": "markdown",
   "id": "413542b2",
   "metadata": {},
   "source": [
    "---"
   ]
  },
  {
   "cell_type": "markdown",
   "id": "6c09ffe1",
   "metadata": {},
   "source": [
    "<!-- Zet de regel afstand voor betere leesbaarheid -->\n",
    "<div style=\"line-height:1.6;\">\n",
    "\n",
    "## **2. Dataset inspecteren**\n",
    "\n",
    "Nu dat wij de dataset hebben gefiltered kunnen we kijken naar de interessante informatie. We beginnen met een gestructueerd overzicht via de `.info()` methode. Dit geeft ons het aantal rijen, kolommen, de hoeveelheid bestaande waarden, en de kolom namen. Dit is essentieel voor het begrijpen en schoonmaken van onze data."
   ]
  },
  {
   "cell_type": "code",
   "execution_count": null,
   "id": "62def6c4",
   "metadata": {},
   "outputs": [],
   "source": [
    "# Aantal rijen en kolommen dataframe"
   ]
  },
  {
   "cell_type": "markdown",
   "id": "5d9a812d",
   "metadata": {},
   "source": [
    "<!-- Zet de regel afstand voor betere leesbaarheid -->\n",
    "<div style=\"line-height:1.6;\">\n",
    "\n",
    "#### **2.1 Omschrijving van de kolommen**\n",
    "\n",
    "Onze dataset heeft X aantal rijen en X aantal kolommen. De kolommen hebben wij hieronder beschreven met informatie over wat de kolom is, wat voor type data er in zit, welke eenheden de data in is, en of er missende waarden zijn.\n",
    "\n",
    "\n",
    "| kolomnaam | omschrijving | type | eenheden | missende waarden |\n",
    "| ---       |---           | ---  | ---      | ---              |\n",
    "| ...       | ...  | ...      | ...              |...\n",
    "\n",
    "#### **2.2 Extra omschrijving numerieke kolommen**\n",
    "\n",
    "Om nog beter inzicht in de data te krijgen en ook om de data in perspectief te zetten hebben we hieronder laten zien wat de maximale, minimale, gemiddelde, en mediane waardes zijn in alle kolommen. Een grote afwijking van mediaan en gemiddelde komt vaak door uitschieters zoals we kunne zien in kolommen X en X.\n",
    "\n",
    "\n",
    "| kolomnaam | maximum | minimum | gemiddelde | mediaan |\n",
    "|---        | ---     |---      |---         |---      |\n",
    "|...        | ...     |...      |...         |...      |\n",
    "\n"
   ]
  },
  {
   "cell_type": "markdown",
   "id": "778fe803",
   "metadata": {},
   "source": [
    "<!-- Zet de regel afstand voor betere leesbaarheid -->\n",
    "<div style=\"line-height:1.6;\">\n",
    "\n",
    "#### **2.3 Relevante kolommen**\n",
    "\n",
    "Niet alle kolommen van de dataset zijn interessant voor het onderzoek. Wij kunnen van sommige kolommen nu al zeggen dat deze niet relevant zijn. Daarom gaan wij in de volgende stap de kolommen die wij niet nodig hebben verwijderen. Dit zorgt voor een schonere dataset die overzichtelijker is en waar wij makkelijker inzichten uit kunnen krijgen.\n",
    "\n",
    "De irrelevante kolommen die wij verwijderd hebben zijn:\n",
    "<!-- en waarom -->\n",
    "- \n",
    "- \n",
    "- \n",
    "\n",
    "De kolommen die wij houden en die dus wel interessant zijn zijn de volgende:\n",
    "<!-- en waarom -->\n",
    "- \n",
    "- \n",
    "- "
   ]
  },
  {
   "cell_type": "code",
   "execution_count": null,
   "id": "cdcce82f",
   "metadata": {},
   "outputs": [],
   "source": [
    "# Verwijderen van irrelevante kolommen"
   ]
  },
  {
   "cell_type": "markdown",
   "id": "d57cf36b",
   "metadata": {},
   "source": [
    "<!-- Zet de regel afstand voor betere leesbaarheid -->\n",
    "<div style=\"line-height:1.6;\">\n",
    "\n",
    "#### **2.4 Onderbouwing te veel missende waarden**\n",
    "\n",
    "Sommige kolommen hebben (te) veel missende waarden. Deze kolommen moeten ook verwijderd worden om de betrouwbaarheid van de data hoog te houden. Kolommen met X% aantal missende waarden moeten worden verwijdert. Deze marge hebben wij genomen omdat XXXXXX.\n",
    "\n",
    "De kolommen X X en X <!-- placeholder --> hebben te veel missende waarden en zullen moeten worden verwijderd. Dit doen wij met de `XXX` methode/functie."
   ]
  },
  {
   "cell_type": "code",
   "execution_count": null,
   "id": "1057ec7e",
   "metadata": {},
   "outputs": [],
   "source": [
    "# Verwijderen van kolommen met te veel missende waarden"
   ]
  },
  {
   "cell_type": "markdown",
   "id": "db8d0b9e",
   "metadata": {},
   "source": [
    "<!-- Zet de regel afstand voor betere leesbaarheid -->\n",
    "<div style=\"line-height:1.6;\">\n",
    "\n",
    "#### **2.5 Groeperen kolommen**\n",
    "\n",
    "Om de dataset beter de begrijpen kunnen wij sommige kolommen, zolas *\"Woningtype\"* groeperen. Dit helpt ons door meer perspectief te kunnnen geven in de data doormiddel van gegroepeerde statestieken en door data analyse later makkelijker en duidelijker te maken.\n",
    "\n",
    "Wij maken hier de groepen X X en X aan doormiddel van de `.groupby()` methode uit <code style=\"color:#4EC9B0;\">pandas</code>."
   ]
  },
  {
   "cell_type": "code",
   "execution_count": null,
   "id": "6c5ccbed",
   "metadata": {},
   "outputs": [],
   "source": [
    "# nieuwe gegroepeerde datasets"
   ]
  },
  {
   "cell_type": "markdown",
   "id": "a20036ca",
   "metadata": {},
   "source": [
    "<!-- Zet de regel afstand voor betere leesbaarheid -->\n",
    "<div style=\"line-height:1.6;\">\n",
    "\n",
    "#### **2.6 Basisstatistieken per gemeente**\n",
    "\n",
    "Om de data verder te verkennen gaan we nu wat meer basisstatistieken opzoeken over de gemeentes. We gaan de totalen, gemiddleden, en medianen berekenen doormiddel van <code style=\"color:#9CDCFE;\"> numpy</code>. Deze geven ons inzicht in verschillen tussen gemeenten. Daaruit kunnen wij conclusies of voorspellingen halen.\n",
    "\n",
    "Wij hebben de volgende ondervindingen gedaan:\n",
    "\n",
    "- \n",
    "- \n",
    "- \n",
    "- "
   ]
  },
  {
   "cell_type": "code",
   "execution_count": null,
   "id": "e46b6b78",
   "metadata": {},
   "outputs": [],
   "source": [
    "# Basisstatistieken:\n",
    "# Totalen per gemeente"
   ]
  },
  {
   "cell_type": "markdown",
   "id": "ad183fa2",
   "metadata": {},
   "source": [
    "<!-- Zet de regel afstand voor betere leesbaarheid -->\n",
    "<div style=\"line-height:1.6;\">\n",
    "\n",
    "Om onze data te verifieren hebben wij onze ondervindingen vergelijken met de data op de CBS website. Hier hebben wij WEL/NIET een verschil in gemerkt. Namelijk het volgende... Dit is te verklaren door dit dit en dit.\n",
    "\n",
    "#### **2.7 Basistatastieken percentages**\n",
    "\n",
    "Wij kunnen nog meer inzichten halen uit de kolommen met aantallen. Wij hebben om beter inzicht te krijgen in X en X de volgende percentages uitgerekend:\n",
    "\n",
    "- \n",
    "- \n",
    "- \n",
    "\n",
    "Dit heeft ons de volgende inzichten gegeven: XXXXX"
   ]
  },
  {
   "cell_type": "code",
   "execution_count": null,
   "id": "97826a7f",
   "metadata": {},
   "outputs": [],
   "source": [
    "# Basisstatistieken:\n",
    "# Percentages"
   ]
  },
  {
   "cell_type": "markdown",
   "id": "51120e08",
   "metadata": {},
   "source": [
    "---"
   ]
  },
  {
   "cell_type": "markdown",
   "id": "1d22ce19",
   "metadata": {},
   "source": [
    "<!-- Zet de regel afstand voor betere leesbaarheid -->\n",
    "<div style=\"line-height:1.6;\">\n",
    "\n",
    "## 3. **Voorlopige conclusie**\n",
    "\n",
    "Deze analyse heeft duidelijke patronen bevonden op dit dit en dit vlak. De gemeenten zouden dit dit en dit kunnen doen om de druk op het electriciteitsnet te verlagen.\n",
    "\n",
    "**Belangrijkste prestaties:**\n",
    "\n",
    "<!-- Placeholders -->\n",
    "\n",
    "- Er zijn XXXX observaties verwerkt, waarmee 95,0% van de oorspronkelijke dataset is behouden.\n",
    "- Geen enkele gemeente doet iets heel ergs\n",
    "- Op weekdagen werd een stijging van zoveel energie gemeten\n",
    "- Er zijn 69 gemeenten zijn in kaart gebracht, waarbij hoogrisicogebieden en verschillen tussen provincies zijn geïdentificeerd."
   ]
  },
  {
   "cell_type": "markdown",
   "id": "36a7a2e0",
   "metadata": {},
   "source": [
    "---"
   ]
  },
  {
   "cell_type": "markdown",
   "id": "06200d32",
   "metadata": {},
   "source": [
    "## Sprint 4"
   ]
  },
  {
   "cell_type": "code",
   "execution_count": null,
   "id": "d6626c90",
   "metadata": {},
   "outputs": [],
   "source": []
  },
  {
   "cell_type": "markdown",
   "id": "be9bd6f7",
   "metadata": {},
   "source": [
    "## Sprint 5"
   ]
  },
  {
   "cell_type": "code",
   "execution_count": null,
   "id": "06ce5b71",
   "metadata": {},
   "outputs": [],
   "source": []
  },
  {
   "cell_type": "markdown",
   "id": "bef944fb",
   "metadata": {},
   "source": [
    "## Sprint 6"
   ]
  },
  {
   "cell_type": "code",
   "execution_count": null,
   "id": "00f78bd2",
   "metadata": {},
   "outputs": [],
   "source": []
  },
  {
   "cell_type": "markdown",
   "id": "51c47960",
   "metadata": {},
   "source": [
    "### Eindadvies"
   ]
  }
 ],
 "metadata": {
  "kernelspec": {
   "display_name": "base",
   "language": "python",
   "name": "python3"
  },
  "language_info": {
   "codemirror_mode": {
    "name": "ipython",
    "version": 3
   },
   "file_extension": ".py",
   "mimetype": "text/x-python",
   "name": "python",
   "nbconvert_exporter": "python",
   "pygments_lexer": "ipython3",
   "version": "3.13.5"
  }
 },
 "nbformat": 4,
 "nbformat_minor": 5
}
