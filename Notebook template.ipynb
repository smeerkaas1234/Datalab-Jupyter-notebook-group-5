{
 "cells": [
  {
   "cell_type": "markdown",
   "id": "fb7db3e0",
   "metadata": {},
   "source": [
    "# Datalab 2025-2026"
   ]
  },
  {
   "cell_type": "markdown",
   "id": "40561af5",
   "metadata": {},
   "source": [
    "<div style=\"line-height:1;\">\n",
    "\n",
    "## Analyse over elektricitiets gebruik in de Nederlandse markt.\n",
    "\n",
    "**Groepsnummer: 5**\n",
    "\n",
    "**Auteurs: Lucas Hoetink, Thomas Galais, Mehmet Kilinc, Joris Zondervan**"
   ]
  },
  {
   "cell_type": "markdown",
   "id": "d96a806f",
   "metadata": {},
   "source": [
    "<div style=\"line-height:1.6;\">\n",
    "\n",
    "## **Kernpuntenrapport**\n",
    "\n",
    "Dit notebook presenteert doormiddel van data van het **CBS** een analytisch overzicht van de **Nederlandse energiemarkt**. Na het opschonen en voorbewerken van de rauwe datasets zijn er verschillende analyses op uitgevoerd om inzicht te krijgen in hoe het elekriciteits gebruik verschilt per gemeente en welke factoren dit beïnvloeden. \n",
    "\n",
    "Wij hebben datasets van het CBS doormiddel van <code style=\"color:#4EC9B0;\">pandas</code>, <code style=\"color:#9CDCFE;\">numpy</code> onderzocht. Ook hebben wij met <code style=\"color:#CE9178;\">seaborn</code> en <code style=\"color:#CE9178;\">matplotlib</code> meerdere visualisaties gemaakt om de data gemakkelijk in te zien.\n",
    "\n",
    "**Belangrijkste bevindingen**:\n",
    "\n",
    "- \n",
    "- \n",
    "\n",
    "Deze patronen benadrukken dit en dit en dit\n"
   ]
  },
  {
   "cell_type": "markdown",
   "id": "1eec98b8",
   "metadata": {},
   "source": [
    "---"
   ]
  },
  {
   "cell_type": "markdown",
   "id": "b746ec40",
   "metadata": {},
   "source": [
    "## **Importeer de benodigde libraries**\n",
    "\n",
    "Hier importeren wij <code style=\"color:#4EC9B0;\">pandas</code> en <code style=\"color:#9CDCFE;\">numpy</code>. Ook installeren wij eerst de api voor  <code style=\"color:#4EC9B0;\">cbsodata</code> (CBS open data), en importeren we de library in het notebook."
   ]
  },
  {
   "cell_type": "code",
   "execution_count": 3,
   "id": "c6a3288a",
   "metadata": {},
   "outputs": [
    {
     "name": "stdout",
     "output_type": "stream",
     "text": [
      "Collecting cbsodata\n",
      "  Downloading cbsodata-1.3.5-py3-none-any.whl.metadata (7.8 kB)\n",
      "Requirement already satisfied: requests in /Users/mehmetalikilinc/Downloads/anaconda3/lib/python3.13/site-packages (from cbsodata) (2.32.3)\n",
      "Requirement already satisfied: charset-normalizer<4,>=2 in /Users/mehmetalikilinc/Downloads/anaconda3/lib/python3.13/site-packages (from requests->cbsodata) (3.3.2)\n",
      "Requirement already satisfied: idna<4,>=2.5 in /Users/mehmetalikilinc/Downloads/anaconda3/lib/python3.13/site-packages (from requests->cbsodata) (3.7)\n",
      "Requirement already satisfied: urllib3<3,>=1.21.1 in /Users/mehmetalikilinc/Downloads/anaconda3/lib/python3.13/site-packages (from requests->cbsodata) (2.3.0)\n",
      "Requirement already satisfied: certifi>=2017.4.17 in /Users/mehmetalikilinc/Downloads/anaconda3/lib/python3.13/site-packages (from requests->cbsodata) (2025.4.26)\n",
      "Downloading cbsodata-1.3.5-py3-none-any.whl (12 kB)\n",
      "Installing collected packages: cbsodata\n",
      "Successfully installed cbsodata-1.3.5\n",
      "Note: you may need to restart the kernel to use updated packages.\n"
     ]
    }
   ],
   "source": [
    "import pandas as pd\n",
    "import numpy as np\n",
    "%pip install cbsodata\n",
    "import cbsodata\n",
    "import seaborn as sns\n",
    "import matplotlib as plt"
   ]
  },
  {
   "cell_type": "markdown",
   "id": "63f3c1ce",
   "metadata": {},
   "source": [
    "## **Stel de plotting stijl in**\n",
    "\n",
    "Om de uniformiteit te bewaren in het hele document gaan we alle grafieken dezelfde stijl geven."
   ]
  },
  {
   "cell_type": "code",
   "execution_count": 4,
   "id": "451f3d3a",
   "metadata": {},
   "outputs": [],
   "source": [
    "plt.style.use('seaborn-v0_8')\n",
    "sns.set_palette('husl')"
   ]
  },
  {
   "cell_type": "markdown",
   "id": "04cb54b2",
   "metadata": {},
   "source": [
    "---"
   ]
  },
  {
   "cell_type": "markdown",
   "id": "c691644c",
   "metadata": {},
   "source": [
    "## **Sprint 3**"
   ]
  },
  {
   "cell_type": "markdown",
   "id": "204ec826",
   "metadata": {},
   "source": [
    "<div style=\"line-height:1.6;\">\n",
    "\n",
    "### **Kernpuntenrapport**\n",
    "\n",
    "Dit hoofdstuk presenteert een analytisch overzicht van het elektriciteitsverbruik per gemeente. Ook gaat dit hoofdstuk in op de verschillende factoren die het elektriciteitsverbruik per huishouden beïnvloeden.Als laatste gaan wij aan de hand van kenmerken van een buurt voorspellingen doen over het energieverbruik.\n",
    "\n",
    "**Belangrijkste bevindingen:**\n",
    "\n",
    "- \n",
    "- \n",
    "\n",
    "Dit verteld ons dit dit en dit"
   ]
  },
  {
   "cell_type": "markdown",
   "id": "f9bfdd81",
   "metadata": {},
   "source": [
    "---"
   ]
  },
  {
   "cell_type": "markdown",
   "id": "7d992b99",
   "metadata": {},
   "source": [
    "## **Importeer de dataset**"
   ]
  },
  {
   "cell_type": "markdown",
   "id": "a10731aa",
   "metadata": {},
   "source": [
    "<!-- Zet de regel afstand voor betere leesbaarheid -->\n",
    "<div style=\"line-height:1.6;\">\n",
    "\n",
    "**Hoe we dit doen:**\n",
    "\n",
    "We beginnen met <code style=\"color:#4EC9B0;\">pandas</code> en `.get_data()` van <code style=\"color:#4EC9B0;\">cbsodata</code> om het dataset 84799NED op te halen en meteen om te zetten in een <code style=\"color:#4EC9B0;\">pandas DataFrame</code>. \n",
    "We gaan meteen door met data verkenning om de dataset beter te begrijpen. De eerste verkenning met `.head()` en `.shape` geeft ons een snel overzicht van de datastructuur.\n",
    "\n",
    "De dataset heeft `17341` rijen en `119` kolommen.\n",
    "`.head()` laat ons de bovenste 5 rijen zien. hieruit kunnen we opmaken waar de dataset over gaat. Het is een dataset met informatie over verschillende wijken in Nederland. De informatie bevat onderwerpen zoals leeftijd, partnerschap, afkomst, geboorte en sterfte totalen, huishoudens, en meer. Interessante kolommen voor ons zijn bijvoorbeeld buurten en informatie over energieverbruik."
   ]
  },
  {
   "cell_type": "code",
   "execution_count": 5,
   "id": "7171f30c",
   "metadata": {},
   "outputs": [
    {
     "name": "stdout",
     "output_type": "stream",
     "text": [
      "De dataset heeft de volgende vorm: (17341, 119)\n",
      "\n",
      "De bovenste 5 rijen zijn:\n",
      "    ID          WijkenEnBuurten                            Gemeentenaam_1  \\\n",
      "0   0                Nederland  Nederland                                  \n",
      "1   1              Aa en Hunze  Aa en Hunze                                \n",
      "2   2            Wijk 00 Annen  Aa en Hunze                                \n",
      "3   3                    Annen  Aa en Hunze                                \n",
      "4   4  Verspreide huizen Annen  Aa en Hunze                                \n",
      "\n",
      "  SoortRegio_2  Codering_3 IndelingswijzigingWijkenEnBuurten_4  \\\n",
      "0   Land        NL00                                         .   \n",
      "1   Gemeente    GM1680                                       .   \n",
      "2   Wijk        WK168000                                     1   \n",
      "3   Buurt       BU16800000                                   1   \n",
      "4   Buurt       BU16800009                                   1   \n",
      "\n",
      "   AantalInwoners_5  Mannen_6  Vrouwen_7  k_0Tot15Jaar_8  ...  \\\n",
      "0          17407585   8648031    8759554         2726099  ...   \n",
      "1             25445     12708      12737            3460  ...   \n",
      "2              3610      1760       1850             560  ...   \n",
      "3              3455      1680       1775             545  ...   \n",
      "4               155        75         75              15  ...   \n",
      "\n",
      "   AfstandTotKinderdagverblijf_108  AfstandTotSchool_109  \\\n",
      "0                              0.6                   0.7   \n",
      "1                              1.2                   1.2   \n",
      "2                              0.5                   0.8   \n",
      "3                              0.5                   0.8   \n",
      "4                              1.7                   2.0   \n",
      "\n",
      "   ScholenBinnen3Km_110  OppervlakteTotaal_111  OppervlakteLand_112  \\\n",
      "0                  10.9                4154338              3367109   \n",
      "1                   1.8                  27887                27609   \n",
      "2                   2.6                   1478                 1466   \n",
      "3                   2.6                    252                  252   \n",
      "4                   1.2                   1226                 1213   \n",
      "\n",
      "   OppervlakteWater_113  MeestVoorkomendePostcode_114  Dekkingspercentage_115  \\\n",
      "0                787228                             .                     NaN   \n",
      "1                   279                             .                     NaN   \n",
      "2                    13                             .                     NaN   \n",
      "3                     0                          9468                     1.0   \n",
      "4                    13                          9468                     1.0   \n",
      "\n",
      "   MateVanStedelijkheid_116  Omgevingsadressendichtheid_117  \n",
      "0                       2.0                          2010.0  \n",
      "1                       5.0                           281.0  \n",
      "2                       5.0                           396.0  \n",
      "3                       5.0                           411.0  \n",
      "4                       5.0                            60.0  \n",
      "\n",
      "[5 rows x 119 columns]\n"
     ]
    }
   ],
   "source": [
    "# Dataset importeren. Omdat de dataset bovenaan wat extra rijen heeft slaan we die over.\n",
    "df = pd.DataFrame(cbsodata.get_data('84799NED'))\n",
    "\n",
    "# Dataset uitlezen\n",
    "print('De dataset heeft de volgende vorm:', df.shape)\n",
    "print('\\nDe bovenste 5 rijen zijn:\\n',df.head())"
   ]
  },
  {
   "cell_type": "markdown",
   "id": "3a1015ff",
   "metadata": {},
   "source": [
    "<!-- Zet de regel afstand voor betere leesbaarheid -->\n",
    "<div style=\"line-height:1.6;\">\n",
    "\n",
    "## **1. De dataset filteren**\n",
    "\n",
    "We beginnen met een gestructureerd overzicht te creëren van de data die voor ons interessant is. Dit doen wij door de dataset te filteren en om te zetten in de DataFrames `buurten`, `inwoners`, en `elektriciteitsgebruik`. Het is nodig om op alleen de buurten te filteren, omdat ons onderzoek alleen de informatie over de buurten vereist. De niet-relevante informatie hindert de snelheid van berekeningen en door deze weg te laten maken wij het onderzoek ook overzichtelijker.\n",
    "De interessante informatie voor ons in deze dataset is:\n",
    "\n",
    "- De wijken en buurten kolom, die geeft ons informatie over locatie.\n",
    "- De gemeente kolom geeft ons informatie over mogelijke groeperingen van data per gemeente.\n",
    "- Het regio_type kolom geeft de mogelijkheid te sorteren op soort regio.\n",
    "- De elektriciteitsverbruik kolom geeft ons inzicht in de gebruikte elektriciteit."
   ]
  },
  {
   "cell_type": "code",
   "execution_count": 43,
   "id": "ab75fa4b",
   "metadata": {},
   "outputs": [
    {
     "name": "stdout",
     "output_type": "stream",
     "text": [
      "['ID', 'WijkenEnBuurten', 'Gemeentenaam_1', 'SoortRegio_2', 'Codering_3', 'IndelingswijzigingWijkenEnBuurten_4', 'AantalInwoners_5', 'Mannen_6', 'Vrouwen_7', 'k_0Tot15Jaar_8', 'k_15Tot25Jaar_9', 'k_25Tot45Jaar_10', 'k_45Tot65Jaar_11', 'k_65JaarOfOuder_12', 'Ongehuwd_13', 'Gehuwd_14', 'Gescheiden_15', 'Verweduwd_16', 'WestersTotaal_17', 'NietWestersTotaal_18', 'Marokko_19', 'NederlandseAntillenEnAruba_20', 'Suriname_21', 'Turkije_22', 'OverigNietWesters_23', 'GeboorteTotaal_24', 'GeboorteRelatief_25', 'SterfteTotaal_26', 'SterfteRelatief_27', 'HuishoudensTotaal_28', 'Eenpersoonshuishoudens_29', 'HuishoudensZonderKinderen_30', 'HuishoudensMetKinderen_31', 'GemiddeldeHuishoudensgrootte_32', 'Bevolkingsdichtheid_33', 'Woningvoorraad_34', 'GemiddeldeWOZWaardeVanWoningen_35', 'PercentageEengezinswoning_36', 'PercentageMeergezinswoning_37', 'PercentageBewoond_38', 'PercentageOnbewoond_39', 'Koopwoningen_40', 'HuurwoningenTotaal_41', 'InBezitWoningcorporatie_42', 'InBezitOverigeVerhuurders_43', 'EigendomOnbekend_44', 'BouwjaarVoor2000_45', 'BouwjaarVanaf2000_46', 'GemiddeldElektriciteitsverbruikTotaal_47', 'Appartement_48', 'Tussenwoning_49', 'Hoekwoning_50', 'TweeOnderEenKapWoning_51', 'VrijstaandeWoning_52', 'Huurwoning_53', 'EigenWoning_54', 'GemiddeldAardgasverbruikTotaal_55', 'Appartement_56', 'Tussenwoning_57', 'Hoekwoning_58', 'TweeOnderEenKapWoning_59', 'VrijstaandeWoning_60', 'Huurwoning_61', 'EigenWoning_62', 'PercentageWoningenMetStadsverwarming_63', 'OpleidingsniveauLaag_64', 'OpleidingsniveauMiddelbaar_65', 'OpleidingsniveauHoog_66', 'Nettoarbeidsparticipatie_67', 'PercentageWerknemers_68', 'PercentageZelfstandigen_69', 'AantalInkomensontvangers_70', 'GemiddeldInkomenPerInkomensontvanger_71', 'GemiddeldInkomenPerInwoner_72', 'k_40PersonenMetLaagsteInkomen_73', 'k_20PersonenMetHoogsteInkomen_74', 'GemGestandaardiseerdInkomenVanHuish_75', 'k_40HuishoudensMetLaagsteInkomen_76', 'k_20HuishoudensMetHoogsteInkomen_77', 'HuishoudensMetEenLaagInkomen_78', 'HuishOnderOfRondSociaalMinimum_79', 'HuishoudensTot110VanSociaalMinimum_80', 'HuishoudensTot120VanSociaalMinimum_81', 'MediaanVermogenVanParticuliereHuish_82', 'PersonenPerSoortUitkeringBijstand_83', 'PersonenPerSoortUitkeringAO_84', 'PersonenPerSoortUitkeringWW_85', 'PersonenPerSoortUitkeringAOW_86', 'JongerenMetJeugdzorgInNatura_87', 'PercentageJongerenMetJeugdzorg_88', 'WmoClienten_89', 'WmoClientenRelatief_90', 'BedrijfsvestigingenTotaal_91', 'ALandbouwBosbouwEnVisserij_92', 'BFNijverheidEnEnergie_93', 'GIHandelEnHoreca_94', 'HJVervoerInformatieEnCommunicatie_95', 'KLFinancieleDienstenOnroerendGoed_96', 'MNZakelijkeDienstverlening_97', 'OQOverheidOnderwijsEnZorg_98', 'RUCultuurRecreatieOverigeDiensten_99', 'PersonenautoSTotaal_100', 'PersonenautoSBrandstofBenzine_101', 'PersonenautoSOverigeBrandstof_102', 'PersonenautoSPerHuishouden_103', 'PersonenautoSNaarOppervlakte_104', 'Motorfietsen_105', 'AfstandTotHuisartsenpraktijk_106', 'AfstandTotGroteSupermarkt_107', 'AfstandTotKinderdagverblijf_108', 'AfstandTotSchool_109', 'ScholenBinnen3Km_110', 'OppervlakteTotaal_111', 'OppervlakteLand_112', 'OppervlakteWater_113', 'MeestVoorkomendePostcode_114', 'Dekkingspercentage_115', 'MateVanStedelijkheid_116', 'Omgevingsadressendichtheid_117']\n"
     ]
    }
   ],
   "source": [
    "# Dataframe buurten maken\n",
    "#Thomas\n",
    "print(df.columns.tolist())\n",
    "\n",
    "buurten = df[['WijkenEnBuurten', 'Gemeentenaam_1', 'SoortRegio_2', 'Bevolkingsdichtheid_33', 'Woningvoorraad_34', 'GemiddeldeWOZWaardeVanWoningen_35', 'PercentageEengezinswoning_36', 'PercentageMeergezinswoning_37', 'PercentageBewoond_38', 'PercentageOnbewoond_39', 'GIHandelEnHoreca_94', 'AfstandTotHuisartsenpraktijk_106', 'AfstandTotGroteSupermarkt_107', 'AfstandTotKinderdagverblijf_108', 'AfstandTotSchool_109', 'OppervlakteLand_112', 'OppervlakteWater_113', 'MateVanStedelijkheid_116', 'Omgevingsadressendichtheid_117']].copy()\n",
    "inwoners = df[['k_20HuishoudensMetHoogsteInkomen_77', 'HuishoudensMetEenLaagInkomen_78', 'HuishoudensMetKinderen_31','HuishoudensZonderKinderen_30', 'Bevolkingsdichtheid_33', 'OpleidingsniveauLaag_64', 'OpleidingsniveauMiddelbaar_65', 'OpleidingsniveauHoog_66', 'Mannen_6', 'Vrouwen_7','k_0Tot15Jaar_8', 'k_15Tot25Jaar_9', 'k_25Tot45Jaar_10', 'k_45Tot65Jaar_11', 'k_65JaarOfOuder_12','GeboorteTotaal_24', 'GeboorteRelatief_25', 'SterfteTotaal_26', 'SterfteRelatief_27',]]\n",
    "elektriciteitsverbruik = df[['GemiddeldElektriciteitsverbruikTotaal_47', 'GemiddeldAardgasverbruikTotaal_55', 'BouwjaarVoor2000_45', 'BouwjaarVanaf2000_46','PercentageWoningenMetStadsverwarming_63',]]\n",
    "woningen = df[['GemiddeldeHuishoudensgrootte_32', 'Appartement_48', 'Tussenwoning_49', 'Hoekwoning_50','TweeOnderEenKapWoning_51', 'VrijstaandeWoning_52', 'BedrijfsvestigingenTotaal_91',]]\n",
    "\n",
    "buurten.rename(columns={'WijkenEnBuurten': 'buurt', 'Gemeentenaam_1': 'gemeente', 'SoortRegio_2': 'regio_type', 'GemiddeldElektriciteitsverbruikTotaal_47':'gem_elek_verbruik'}, inplace=True)\n",
    "\n",
    "\n",
    "\n",
    "# Een nieuwe dataframe met alleen buurten is belangrijk omdat we dan alle \"onnodige\" informatie buiten laten en alle bruikbare inforamtie voor ons onderzoek overhouden."
   ]
  },
  {
   "cell_type": "markdown",
   "id": "413542b2",
   "metadata": {},
   "source": [
    "---"
   ]
  },
  {
   "cell_type": "markdown",
   "id": "6c09ffe1",
   "metadata": {},
   "source": [
    "<!-- Zet de regel afstand voor betere leesbaarheid -->\n",
    "<div style=\"line-height:1.6;\">\n",
    "\n",
    "## **2. Dataset inspecteren**\n",
    "\n",
    "Nu dat wij de dataset hebben gefiltered kunnen we kijken naar de interessante informatie. We beginnen met een gestructueerd overzicht via de `.info()` methode. Dit geeft ons het aantal rijen, kolommen, de hoeveelheid bestaande waarden, en de kolom namen. Dit is essentieel voor het begrijpen en schoonmaken van onze data."
   ]
  },
  {
   "cell_type": "code",
   "execution_count": null,
   "id": "62def6c4",
   "metadata": {},
   "outputs": [
    {
     "name": "stdout",
     "output_type": "stream",
     "text": [
      "<class 'pandas.core.frame.DataFrame'>\n",
      "RangeIndex: 17341 entries, 0 to 17340\n",
      "Columns: 119 entries, ID to Omgevingsadressendichtheid_117\n",
      "dtypes: float64(75), int64(38), object(6)\n",
      "memory usage: 15.7+ MB\n"
     ]
    }
   ],
   "source": [
    "# Aantal rijen en kolommen dataframe\n",
    "df.info()\n",
    "\n"
   ]
  },
  {
   "cell_type": "markdown",
   "id": "5d9a812d",
   "metadata": {},
   "source": [
    "<!-- Zet de regel afstand voor betere leesbaarheid -->\n",
    "<div style=\"line-height:1.6;\">\n",
    "\n",
    "#### **2.1 Omschrijving van de kolommen**\n",
    "\n",
    "Onze dataset heeft X aantal rijen en X aantal kolommen. De kolommen hebben wij hieronder beschreven met informatie over wat de kolom is, wat voor type data er in zit, welke eenheden de data in is, en of er missende waarden zijn.\n",
    "\n",
    "\n",
    "| kolomnaam | omschrijving | type | eenheden | missende waarden |\n",
    "| ---       |---           | ---  | ---      | ---              |\n",
    "| ...       | ...  | ...      | ...              |...\n",
    "\n",
    "#### **2.2 Extra omschrijving numerieke kolommen**\n",
    "\n",
    "Om nog beter inzicht in de data te krijgen en ook om de data in perspectief te zetten hebben we hieronder laten zien wat de maximale, minimale, gemiddelde, en mediane waardes zijn in alle kolommen. Een grote afwijking van mediaan en gemiddelde komt vaak door uitschieters zoals we kunne zien in kolommen X en X.\n",
    "\n",
    "\n",
    "| kolomnaam | maximum | minimum | gemiddelde | mediaan |\n",
    "|---        | ---     |---      |---         |---      |\n",
    "|...        | ...     |...      |...         |...      |\n",
    "\n"
   ]
  },
  {
   "cell_type": "markdown",
   "id": "778fe803",
   "metadata": {},
   "source": [
    "<!-- Zet de regel afstand voor betere leesbaarheid -->\n",
    "<div style=\"line-height:1.6;\">\n",
    "\n",
    "#### **2.3 Relevante kolommen**\n",
    "\n",
    "Niet alle kolommen van de dataset zijn interessant voor het onderzoek. Wij kunnen van sommige kolommen nu al zeggen dat deze niet relevant zijn. Daarom gaan wij in de volgende stap de kolommen die wij niet nodig hebben verwijderen. Dit zorgt voor een schonere dataset die overzichtelijker is en waar wij makkelijker inzichten uit kunnen krijgen.\n",
    "\n",
    "De irrelevante kolommen die wij verwijderd hebben zijn:\n",
    "<!-- en waarom -->\n",
    "- \n",
    "- \n",
    "- \n",
    "\n",
    "De kolommen die wij houden en die dus wel interessant zijn zijn de volgende:\n",
    "<!-- en waarom -->\n",
    "- \n",
    "- \n",
    "- "
   ]
  },
  {
   "cell_type": "code",
   "execution_count": null,
   "id": "cdcce82f",
   "metadata": {},
   "outputs": [],
   "source": [
    "# Verwijderen van irrelevante kolommen"
   ]
  },
  {
   "cell_type": "markdown",
   "id": "d57cf36b",
   "metadata": {},
   "source": [
    "<!-- Zet de regel afstand voor betere leesbaarheid -->\n",
    "<div style=\"line-height:1.6;\">\n",
    "\n",
    "#### **2.4 Onderbouwing te veel missende waarden**\n",
    "\n",
    "Sommige kolommen hebben (te) veel missende waarden. Deze kolommen moeten ook verwijderd worden om de betrouwbaarheid van de data hoog te houden. Kolommen met X% aantal missende waarden moeten worden verwijdert. Deze marge hebben wij genomen omdat XXXXXX.\n",
    "\n",
    "De kolommen X X en X <!-- placeholder --> hebben te veel missende waarden en zullen moeten worden verwijderd. Dit doen wij met de `XXX` methode/functie."
   ]
  },
  {
   "cell_type": "code",
   "execution_count": null,
   "id": "1057ec7e",
   "metadata": {},
   "outputs": [],
   "source": [
    "# Verwijderen van kolommen met te veel missende waarden"
   ]
  },
  {
   "cell_type": "markdown",
   "id": "db8d0b9e",
   "metadata": {},
   "source": [
    "<!-- Zet de regel afstand voor betere leesbaarheid -->\n",
    "<div style=\"line-height:1.6;\">\n",
    "\n",
    "#### **2.5 Groeperen kolommen**\n",
    "\n",
    "Om de dataset beter de begrijpen kunnen wij sommige kolommen, zolas *\"Woningtype\"* groeperen. Dit helpt ons door meer perspectief te kunnnen geven in de data doormiddel van gegroepeerde statestieken en door data analyse later makkelijker en duidelijker te maken.\n",
    "\n",
    "Wij maken hier de groepen X X en X aan doormiddel van de `.groupby()` methode uit <code style=\"color:#4EC9B0;\">pandas</code>.\n",
    "Daarna kunnen wij doormiddel van <code style=\"color:#CE9178;\">seaborn</code> en <code style=\"color:#CE9178;\">matplotlib</code> wat visuele overzichten creëeren om meer inzicht te creëeren in de data."
   ]
  },
  {
   "cell_type": "code",
   "execution_count": null,
   "id": "6c5ccbed",
   "metadata": {},
   "outputs": [],
   "source": [
    "# nieuwe gegroepeerde datasets"
   ]
  },
  {
   "cell_type": "markdown",
   "id": "a20036ca",
   "metadata": {},
   "source": [
    "<!-- Zet de regel afstand voor betere leesbaarheid -->\n",
    "<div style=\"line-height:1.6;\">\n",
    "\n",
    "#### **2.6 Basisstatistieken per gemeente**\n",
    "\n",
    "Om de data verder te verkennen gaan we nu wat meer basisstatistieken opzoeken over de gemeentes. We gaan de totalen, gemiddleden, en medianen berekenen doormiddel van <code style=\"color:#9CDCFE;\"> numpy</code>. Deze geven ons inzicht in verschillen tussen gemeenten. Daaruit kunnen wij conclusies of voorspellingen halen.\n",
    "\n",
    "Wij hebben de volgende ondervindingen gedaan:\n",
    "\n",
    "- \n",
    "- \n",
    "- \n",
    "- "
   ]
  },
  {
   "cell_type": "code",
   "execution_count": null,
   "id": "e46b6b78",
   "metadata": {},
   "outputs": [],
   "source": [
    "# Basisstatistieken:\n",
    "# Totalen per gemeente"
   ]
  },
  {
   "cell_type": "markdown",
   "id": "ad183fa2",
   "metadata": {},
   "source": [
    "<!-- Zet de regel afstand voor betere leesbaarheid -->\n",
    "<div style=\"line-height:1.6;\">\n",
    "\n",
    "Om onze data te verifieren hebben wij onze ondervindingen vergelijken met de data op de CBS website. Hier hebben wij WEL/NIET een verschil in gemerkt. Namelijk het volgende... Dit is te verklaren door dit dit en dit.\n",
    "\n",
    "#### **2.7 Basistatastieken percentages**\n",
    "\n",
    "Wij kunnen nog meer inzichten halen uit de kolommen met aantallen. Wij hebben om beter inzicht te krijgen in X en X de volgende percentages uitgerekend:\n",
    "\n",
    "- \n",
    "- \n",
    "- \n",
    "\n",
    "Dit heeft ons de volgende inzichten gegeven: XXXXX"
   ]
  },
  {
   "cell_type": "code",
   "execution_count": null,
   "id": "97826a7f",
   "metadata": {},
   "outputs": [],
   "source": [
    "# Basisstatistieken:\n",
    "# Percentages"
   ]
  },
  {
   "cell_type": "markdown",
   "id": "51120e08",
   "metadata": {},
   "source": [
    "---"
   ]
  },
  {
   "cell_type": "markdown",
   "id": "1d22ce19",
   "metadata": {},
   "source": [
    "<!-- Zet de regel afstand voor betere leesbaarheid -->\n",
    "<div style=\"line-height:1.6;\">\n",
    "\n",
    "## 3. **Voorlopige conclusie**\n",
    "\n",
    "Deze analyse heeft duidelijke patronen bevonden op dit dit en dit vlak. De gemeenten zouden dit dit en dit kunnen doen om de druk op het electriciteitsnet te verlagen.\n",
    "\n",
    "**Belangrijkste prestaties:**\n",
    "\n",
    "<!-- Placeholders -->\n",
    "\n",
    "- Er zijn XXXX observaties verwerkt, waarmee 95,0% van de oorspronkelijke dataset is behouden.\n",
    "- Geen enkele gemeente doet iets heel ergs\n",
    "- Op weekdagen werd een stijging van zoveel energie gemeten\n",
    "- Er zijn 69 gemeenten zijn in kaart gebracht, waarbij hoogrisicogebieden en verschillen tussen provincies zijn geïdentificeerd."
   ]
  },
  {
   "cell_type": "markdown",
   "id": "36a7a2e0",
   "metadata": {},
   "source": [
    "---"
   ]
  },
  {
   "cell_type": "markdown",
   "id": "06200d32",
   "metadata": {},
   "source": [
    "## Sprint 4"
   ]
  },
  {
   "cell_type": "code",
   "execution_count": null,
   "id": "d6626c90",
   "metadata": {},
   "outputs": [],
   "source": []
  },
  {
   "cell_type": "markdown",
   "id": "be9bd6f7",
   "metadata": {},
   "source": [
    "## Sprint 5"
   ]
  },
  {
   "cell_type": "code",
   "execution_count": null,
   "id": "06ce5b71",
   "metadata": {},
   "outputs": [],
   "source": []
  },
  {
   "cell_type": "markdown",
   "id": "bef944fb",
   "metadata": {},
   "source": [
    "## Sprint 6"
   ]
  },
  {
   "cell_type": "code",
   "execution_count": null,
   "id": "00f78bd2",
   "metadata": {},
   "outputs": [],
   "source": []
  },
  {
   "cell_type": "markdown",
   "id": "51c47960",
   "metadata": {},
   "source": [
    "### Eindadvies"
   ]
  }
 ],
 "metadata": {
  "kernelspec": {
   "display_name": "base",
   "language": "python",
   "name": "python3"
  },
  "language_info": {
   "codemirror_mode": {
    "name": "ipython",
    "version": 3
   },
   "file_extension": ".py",
   "mimetype": "text/x-python",
   "name": "python",
   "nbconvert_exporter": "python",
   "pygments_lexer": "ipython3",
   "version": "3.13.5"
  }
 },
 "nbformat": 4,
 "nbformat_minor": 5
}
